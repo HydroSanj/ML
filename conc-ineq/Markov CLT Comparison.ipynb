{
 "cells": [
  {
   "cell_type": "markdown",
   "metadata": {},
   "source": [
    "# Markov and CLT comparison - Coin Toss Example"
   ]
  },
  {
   "cell_type": "markdown",
   "metadata": {},
   "source": [
    "### Description:\n",
    "Consider an example where we toss a fair coin 100 times. We are interested to find the probability of getting atleast 'h' number of heads. We can model this problem using Random Variables, where a tail is 0, head is 1 and Sn will be the sum of 'n' such tosses. We will plot the actual probabilities, bound from markov inequality and the Central limit theorem approximation of P(Sn>=h)."
   ]
  },
  {
   "cell_type": "markdown",
   "metadata": {},
   "source": [
    "### Code"
   ]
  },
  {
   "cell_type": "markdown",
   "metadata": {},
   "source": [
    "Imports"
   ]
  },
  {
   "cell_type": "code",
   "execution_count": 1,
   "metadata": {},
   "outputs": [],
   "source": [
    "import numpy as np\n",
    "import math\n",
    "import matplotlib.pyplot as plt\n",
    "import scipy.stats"
   ]
  },
  {
   "cell_type": "markdown",
   "metadata": {},
   "source": [
    "Random Variables, its distribution and expected values"
   ]
  },
  {
   "cell_type": "code",
   "execution_count": 2,
   "metadata": {},
   "outputs": [
    {
     "name": "stdout",
     "output_type": "stream",
     "text": [
      "E[X] = 0.5 , var[X] = 0.25\n",
      "E[Sn] = 45.0 , var[Sn] = 22.5\n"
     ]
    }
   ],
   "source": [
    "X = [0,1] # Do not change these values considering how the problem is defined -- fixed --\n",
    "f_X = [0.5,0.5] # Can be changed -- configurable -- \n",
    "n = 90  # Number of coin tosses -- configurable -- \n",
    "\n",
    "def expectation(random_variable,PMF):\n",
    "    return np.sum(np.multiply(random_variable,PMF))\n",
    "    \n",
    "E_X = expectation(X,f_X)\n",
    "\n",
    "def variance(random_variable,PMF,E_X):\n",
    "    return np.sum(np.multiply((random_variable-E_X)**2,PMF))\n",
    "\n",
    "var_X = variance(X,f_X,E_X)\n",
    "\n",
    "# Sn = Sum of 'n' i.i.d. random variables of X\n",
    "E_Sn = n*E_X\n",
    "var_Sn = n*var_X\n",
    "\n",
    "print \"E[X] =\", E_X, \", var[X] =\", var_X\n",
    "print \"E[Sn] =\", E_Sn, \", var[Sn] =\", var_Sn"
   ]
  },
  {
   "cell_type": "markdown",
   "metadata": {},
   "source": [
    "Functions"
   ]
  },
  {
   "cell_type": "code",
   "execution_count": 3,
   "metadata": {},
   "outputs": [],
   "source": [
    "def fac(x): # returns the factorial of x\n",
    "    prod = 1\n",
    "    i = 1\n",
    "    while (i<=x):\n",
    "        prod = prod*i\n",
    "        i = i+1\n",
    "    return prod\n",
    "\n",
    "def combi(n,r): # returns the nCr value\n",
    "    return fac(n)*1.0 / (fac(n-r)*fac(r))\n",
    "\n",
    "nCr_prob_list = []\n",
    "for i in range(0,n+1):\n",
    "    nCr_prob_list.append(combi(n,i)*math.pow(f_X[1],i)*math.pow(f_X[0],n-i))\n",
    "\n",
    "def actual_prob(epsilon):\n",
    "    su = 0\n",
    "    for j in range(epsilon,n+1):\n",
    "        su = su + nCr_prob_list[j]\n",
    "    return su\n",
    "\n",
    "def markov(epsilon):\n",
    "    if(epsilon <= E_Sn): return 1 # limiting probability values to utmost of 1\n",
    "    else: return E_Sn*1.0/epsilon\n",
    "\n",
    "def clt(epsilon):\n",
    "    return 1.0 - scipy.stats.norm.cdf((epsilon-E_Sn)/math.sqrt(1.0*var_Sn))"
   ]
  },
  {
   "cell_type": "markdown",
   "metadata": {},
   "source": [
    "Initialization of lists"
   ]
  },
  {
   "cell_type": "code",
   "execution_count": 4,
   "metadata": {},
   "outputs": [],
   "source": [
    "epsilon_list = [] # Values ranging from [0,n+1] which should give us P(Sn>=eps) from [1,0]\n",
    "markov_list = [] # Markov bound array\n",
    "actual_prob_list = [] # Actual probability of Sn >= x\n",
    "clt_list = [] # Central limit theorem predicted values"
   ]
  },
  {
   "cell_type": "markdown",
   "metadata": {},
   "source": [
    "Computations"
   ]
  },
  {
   "cell_type": "code",
   "execution_count": 5,
   "metadata": {},
   "outputs": [],
   "source": [
    "for i in range(0,n+2):\n",
    "    epsilon_list.append(i)\n",
    "    actual_prob_list.append(actual_prob(i))\n",
    "    markov_list.append(markov(i))\n",
    "    clt_list.append(clt(i))"
   ]
  },
  {
   "cell_type": "markdown",
   "metadata": {},
   "source": [
    "Plots"
   ]
  },
  {
   "cell_type": "code",
   "execution_count": 6,
   "metadata": {
    "scrolled": false
   },
   "outputs": [
    {
     "data": {
      "image/png": "[encoded data removed]",
      "text/plain": [
       "<Figure size 432x288 with 1 Axes>"
      ]
     },
     "metadata": {
      "needs_background": "light"
     },
     "output_type": "display_data"
    }
   ],
   "source": [
    "plt.axhline(y=0, color='#a8a8a7',linestyle='dashed')  \n",
    "plt.axhline(y=1, color='#a8a8a7',linestyle='dashed')  \n",
    "\n",
    "plt.plot(epsilon_list,actual_prob_list,color='#e67b10',linewidth=3.5,label='actual prob')\n",
    "plt.plot(epsilon_list,markov_list,color='#268abd',label='markov')\n",
    "plt.plot(epsilon_list,clt_list,color='#10b52e',label='clt')\n",
    "\n",
    "plt.title(\"Epsilon vs. Prob(Sn>=Epsilon)\")\n",
    "plt.xlabel(\"Epsilon\")\n",
    "plt.ylabel(\"Prob(Sn>=Epsilon)\")\n",
    "plt.legend()\n",
    "\n",
    "plt.show()"
   ]
  },
  {
   "cell_type": "markdown",
   "metadata": {},
   "source": [
    "Conclusion"
   ]
  },
  {
   "cell_type": "markdown",
   "metadata": {},
   "source": [
    "From the plot we can see that the Markov bound is indeed an upper bound on the actual probability. It does not seem that tight though. But given just the expected value and no more information about the Random Variable (non-negative) it does a decent job at giving us an upper bound. \n",
    "\n",
    "On the other hand, Central Limit theorem seems to give us a very close approximation of the actual probabilites. Remember, that for CLT we need both the expected value and variance. Here, its plotted based on the actual parameters since we know the distribution. But in reality, more often than not, we will only have access to the sample mean and variance. Nevertheless, the sample values are quite close to the actual values as number of samples are large. Overall, CLT is a good approximation and very useful."
   ]
  }
 ],
 "metadata": {
  "kernelspec": {
   "display_name": "Python 2",
   "language": "python",
   "name": "python2"
  },
  "language_info": {
   "codemirror_mode": {
    "name": "ipython",
    "version": 2
   },
   "file_extension": ".py",
   "mimetype": "text/x-python",
   "name": "python",
   "nbconvert_exporter": "python",
   "pygments_lexer": "ipython2",
   "version": "2.7.15"
  }
 },
 "nbformat": 4,
 "nbformat_minor": 2
}
