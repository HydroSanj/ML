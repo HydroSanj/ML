{
 "cells": [
  {
   "cell_type": "markdown",
   "metadata": {},
   "source": [
    "Imports"
   ]
  },
  {
   "cell_type": "code",
   "execution_count": 1,
   "metadata": {},
   "outputs": [],
   "source": [
    "import numpy as np\n",
    "import random\n",
    "import matplotlib.pyplot as plt \n",
    "import scipy.stats"
   ]
  },
  {
   "cell_type": "markdown",
   "metadata": {},
   "source": [
    "Random Variable, its distribution "
   ]
  },
  {
   "cell_type": "code",
   "execution_count": 2,
   "metadata": {},
   "outputs": [
    {
     "name": "stdout",
     "output_type": "stream",
     "text": [
      "Expected value = 3.5\n",
      "Variance = 2.9166666666666665\n"
     ]
    }
   ],
   "source": [
    "X = [1,2,3,4,5,6]\n",
    "f_X = [1.0/6,1.0/6,1.0/6,1.0/6,1.0/6,1.0/6]\n",
    "\n",
    "def expectation(random_variable,PMF):\n",
    "    return np.sum(np.multiply(random_variable,PMF))\n",
    "\n",
    "E_X = expectation(X,f_X)\n",
    " \n",
    "def variance(random_variable,PMF,E_X):\n",
    "    return np.sum(np.multiply((random_variable-E_X)**2,PMF))\n",
    "\n",
    "var_X = variance(X,f_X,E_X)\n",
    " \n",
    "print \"Expected value =\",E_X\n",
    "print \"Variance =\",var_X"
   ]
  },
  {
   "cell_type": "markdown",
   "metadata": {},
   "source": [
    "Initialization of variables and lists"
   ]
  },
  {
   "cell_type": "code",
   "execution_count": 3,
   "metadata": {},
   "outputs": [],
   "source": [
    "N = 100000 # Number of iterations\n",
    "n = 100 # Number of samples drawn each iteration\n",
    "sample_mean_array = []"
   ]
  },
  {
   "cell_type": "markdown",
   "metadata": {},
   "source": [
    "Computations"
   ]
  },
  {
   "cell_type": "code",
   "execution_count": 4,
   "metadata": {},
   "outputs": [],
   "source": [
    "# Xn is the sample mean of 'n' i.i.d. random variables of X \n",
    "E_Xn = E_X # Expected value of Xn\n",
    "var_Xn = var_X*1.0/n # Variance of Xn\n",
    "\n",
    "for i in range(0,N):\n",
    "    Sn = 0 # Sum of 'n' i.i.d. random variables of X \n",
    "    for i in range(0,n):\n",
    "        Sn = Sn + np.random.choice(X,p=f_X)\n",
    "        # Comment the above line and uncomment the next for faster computation if it is uniformly distributed.\n",
    "        # Sn = Sn + random.choice(X)\n",
    "    Xn = Sn * 1.0/n \n",
    "    sample_mean_array.append(Xn)"
   ]
  },
  {
   "cell_type": "markdown",
   "metadata": {},
   "source": [
    "Plots"
   ]
  },
  {
   "cell_type": "code",
   "execution_count": 5,
   "metadata": {},
   "outputs": [
    {
     "data": {
      "image/png": "[encoded data removed]",
      "text/plain": [
       "<Figure size 432x288 with 1 Axes>"
      ]
     },
     "metadata": {
      "needs_background": "light"
     },
     "output_type": "display_data"
    }
   ],
   "source": [
    "# Plotting the histogram of sample means \n",
    "plt.hist(sample_mean_array, bins=50, density=True, alpha=0.5)\n",
    "\n",
    "# Plotting the expected Gaussian PDF \n",
    "x_range = np.arange(2,5,0.01)\n",
    "y_range = scipy.stats.norm(E_Xn,np.sqrt(var_Xn)) \n",
    "plt.plot(x_range,y_range.pdf(x_range))\n",
    "\n",
    "plt.title(\"Sample mean value vs. Probability Density\")\n",
    "plt.xlabel(\"Sample mean value\")\n",
    "plt.ylabel(\"Probability Density\")\n",
    "\n",
    "plt.show()"
   ]
  },
  {
   "cell_type": "markdown",
   "metadata": {},
   "source": [
    "Conclusion"
   ]
  },
  {
   "cell_type": "markdown",
   "metadata": {},
   "source": [
    "From the plot we can see that for large values of 'n' (typically >30) the Central Limit Theorem holds quite well."
   ]
  }
 ],
 "metadata": {
  "kernelspec": {
   "display_name": "Python 2",
   "language": "python",
   "name": "python2"
  },
  "language_info": {
   "codemirror_mode": {
    "name": "ipython",
    "version": 2
   },
   "file_extension": ".py",
   "mimetype": "text/x-python",
   "name": "python",
   "nbconvert_exporter": "python",
   "pygments_lexer": "ipython2",
   "version": "2.7.15"
  }
 },
 "nbformat": 4,
 "nbformat_minor": 2
}
